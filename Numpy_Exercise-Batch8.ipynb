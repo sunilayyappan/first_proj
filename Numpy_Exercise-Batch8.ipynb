{
 "cells": [
  {
   "cell_type": "markdown",
   "metadata": {},
   "source": [
    "# Numpy Exercise  <img src = \"numpy1.png\">\n",
    "###### Authored by T.K.Senthil Kumar"
   ]
  },
  {
   "cell_type": "code",
   "execution_count": null,
   "metadata": {},
   "outputs": [],
   "source": [
    "# 1. Create a numpy array with the number of elements equals your age. The value of array elements is a random number between 10 to your age "
   ]
  },
  {
   "cell_type": "code",
   "execution_count": 1,
   "metadata": {},
   "outputs": [
    {
     "name": "stdout",
     "output_type": "stream",
     "text": [
      "Enter your age25\n"
     ]
    },
    {
     "data": {
      "text/plain": [
       "array([10, 17, 17, 21, 16, 24, 19, 15, 11, 11, 11, 23, 18, 22, 20, 11, 11,\n",
       "       16, 15, 23, 10, 11, 12, 23, 21])"
      ]
     },
     "execution_count": 1,
     "metadata": {},
     "output_type": "execute_result"
    }
   ],
   "source": [
    "age= int(input('Enter your age'))\n",
    "import numpy as np\n",
    "ar=np.random.randint(10,age,age)\n",
    "ar"
   ]
  },
  {
   "cell_type": "raw",
   "metadata": {},
   "source": [
    "  \n",
    "\n"
   ]
  },
  {
   "cell_type": "markdown",
   "metadata": {},
   "source": [
    "#### 2. Create a numpy array between 1 to 50 with the span(space) of 2 and print the length of the array"
   ]
  },
  {
   "cell_type": "code",
   "execution_count": 2,
   "metadata": {},
   "outputs": [
    {
     "name": "stdout",
     "output_type": "stream",
     "text": [
      "25\n"
     ]
    }
   ],
   "source": [
    "# Solution\n",
    "ar1=np.arange(1,50,2)\n",
    "print(len(ar1))\n",
    "\n",
    "\n"
   ]
  },
  {
   "cell_type": "markdown",
   "metadata": {},
   "source": [
    "#### 3. Create an equally spaced numpy array with 27 elements between 4 and 7 "
   ]
  },
  {
   "cell_type": "code",
   "execution_count": 3,
   "metadata": {},
   "outputs": [
    {
     "data": {
      "text/plain": [
       "array([4.        , 4.11538462, 4.23076923, 4.34615385, 4.46153846,\n",
       "       4.57692308, 4.69230769, 4.80769231, 4.92307692, 5.03846154,\n",
       "       5.15384615, 5.26923077, 5.38461538, 5.5       , 5.61538462,\n",
       "       5.73076923, 5.84615385, 5.96153846, 6.07692308, 6.19230769,\n",
       "       6.30769231, 6.42307692, 6.53846154, 6.65384615, 6.76923077,\n",
       "       6.88461538, 7.        ])"
      ]
     },
     "execution_count": 3,
     "metadata": {},
     "output_type": "execute_result"
    }
   ],
   "source": [
    "# Solution\n",
    "ar2=np.linspace(4,7,27)\n",
    "ar2\n",
    "\n"
   ]
  },
  {
   "cell_type": "markdown",
   "metadata": {},
   "source": [
    "#### 4. Create a matrix of size (5 x 4) with random numbers and round off the each elements by only 2 fractional points."
   ]
  },
  {
   "cell_type": "code",
   "execution_count": 4,
   "metadata": {},
   "outputs": [
    {
     "data": {
      "text/plain": [
       "array([[0.36, 0.03, 0.59, 0.4 ],\n",
       "       [0.97, 0.94, 0.68, 0.19],\n",
       "       [0.4 , 0.11, 0.87, 0.24],\n",
       "       [0.25, 0.12, 0.56, 0.65],\n",
       "       [0.53, 0.46, 0.05, 0.09]])"
      ]
     },
     "execution_count": 4,
     "metadata": {},
     "output_type": "execute_result"
    }
   ],
   "source": [
    "# Solution\n",
    "matA=np.random.random((5,4))\n",
    "round_matA=np.round(matA,2)\n",
    "round_matA\n",
    "\n"
   ]
  },
  {
   "cell_type": "markdown",
   "metadata": {},
   "source": [
    "#### 5. Create a matrix of size (5x5) with random integers between 5 to 15"
   ]
  },
  {
   "cell_type": "code",
   "execution_count": 5,
   "metadata": {},
   "outputs": [
    {
     "data": {
      "text/plain": [
       "array([[ 8,  7,  5,  8, 10],\n",
       "       [ 9,  9, 13,  8, 12],\n",
       "       [12,  5, 11,  5, 13],\n",
       "       [ 8,  9,  6, 13, 10],\n",
       "       [ 8, 10, 10,  5,  9]])"
      ]
     },
     "execution_count": 5,
     "metadata": {},
     "output_type": "execute_result"
    }
   ],
   "source": [
    "# Solution\n",
    "matB=np.random.randint(5,15,(5,5))\n",
    "matB\n",
    "\n"
   ]
  },
  {
   "cell_type": "markdown",
   "metadata": {},
   "source": [
    "#### 6. Create the one dimensional array of zeros of random length below 20 with the data type int32"
   ]
  },
  {
   "cell_type": "code",
   "execution_count": 6,
   "metadata": {},
   "outputs": [
    {
     "data": {
      "text/plain": [
       "array([0, 0, 0, 0, 0, 0, 0, 0])"
      ]
     },
     "execution_count": 6,
     "metadata": {},
     "output_type": "execute_result"
    }
   ],
   "source": [
    "# Solution\n",
    "np.random.seed(100)\n",
    "rand_num=np.random.randint(0,20,1)\n",
    "rand_num\n",
    "arr=np.zeros(rand_num,dtype=int)\n",
    "arr\n",
    "\n"
   ]
  },
  {
   "cell_type": "markdown",
   "metadata": {},
   "source": [
    "#### 7. Create a two dimensional array of ones of random row and column lengths with the data type of float32 "
   ]
  },
  {
   "cell_type": "code",
   "execution_count": 7,
   "metadata": {},
   "outputs": [
    {
     "data": {
      "text/plain": [
       "array([[1., 1., 1.],\n",
       "       [1., 1., 1.],\n",
       "       [1., 1., 1.],\n",
       "       [1., 1., 1.],\n",
       "       [1., 1., 1.],\n",
       "       [1., 1., 1.],\n",
       "       [1., 1., 1.],\n",
       "       [1., 1., 1.]])"
      ]
     },
     "execution_count": 7,
     "metadata": {},
     "output_type": "execute_result"
    }
   ],
   "source": [
    "# Solution\n",
    "\n",
    "rand1=np.random.randint(10)\n",
    "rand2=np.random.randint(10)\n",
    "arr=np.ones((rand1,rand2),dtype=float)\n",
    "arr\n",
    "\n"
   ]
  },
  {
   "cell_type": "markdown",
   "metadata": {},
   "source": [
    "#### 8. Create a matrix exactly as same as shown below and print its shape, type and dtype\n",
    "<img src = \"np_mat1.png\">"
   ]
  },
  {
   "cell_type": "code",
   "execution_count": 8,
   "metadata": {},
   "outputs": [
    {
     "name": "stdout",
     "output_type": "stream",
     "text": [
      "matrix is [[ 9 25 50 34 45]\n",
      " [ 3 34 34 65  2]\n",
      " [ 5  7  3 76  3]\n",
      " [ 7  8  6 54  6]\n",
      " [23 12  8  5  8]]\n",
      "matrix shape (5, 5)\n",
      "Matrix type <class 'numpy.ndarray'>\n",
      "matrix datatype int32\n"
     ]
    }
   ],
   "source": [
    "# Solution\n",
    "matrix1=np.array([[9,25,50,34,45],[3,34,34,65,2],[5,7,3,76,3],[7,8,6,54,6],[23,12,8,5,8]])\n",
    "print(\"matrix is\" ,matrix1)\n",
    "print(\"matrix shape\",matrix1.shape)\n",
    "print(\"Matrix type\",type(matrix1))\n",
    "print(\"matrix datatype\",matrix1.dtype)\n",
    "\n"
   ]
  },
  {
   "cell_type": "markdown",
   "metadata": {},
   "source": [
    "#### 9. Access the center pixel of the matrix defined in the question no 8 ( Don't enter the row and column index explicitely)"
   ]
  },
  {
   "cell_type": "code",
   "execution_count": 9,
   "metadata": {},
   "outputs": [
    {
     "name": "stdout",
     "output_type": "stream",
     "text": [
      "Center pixel of given matrix is 3\n"
     ]
    }
   ],
   "source": [
    "# Solution\n",
    "x=matrix1.flatten()\n",
    "center_pixel=x[(len(x)//2)]\n",
    "print(\"Center pixel of given matrix is\",center_pixel)\n"
   ]
  },
  {
   "cell_type": "markdown",
   "metadata": {},
   "source": [
    "#### 10. Print the all the elements of 3rd row of the matrix"
   ]
  },
  {
   "cell_type": "code",
   "execution_count": 10,
   "metadata": {},
   "outputs": [
    {
     "name": "stdout",
     "output_type": "stream",
     "text": [
      "[[ 5  7  3 76  3]]\n"
     ]
    }
   ],
   "source": [
    "# Solution\n",
    "print(matrix1[2:3,])\n",
    "\n"
   ]
  },
  {
   "cell_type": "markdown",
   "metadata": {},
   "source": [
    "#### 11. Print the all the elements of 4th columns of the matrix"
   ]
  },
  {
   "cell_type": "code",
   "execution_count": 11,
   "metadata": {},
   "outputs": [
    {
     "name": "stdout",
     "output_type": "stream",
     "text": [
      "[[34]\n",
      " [65]\n",
      " [76]\n",
      " [54]\n",
      " [ 5]]\n"
     ]
    }
   ],
   "source": [
    "# Solution\n",
    "print(matrix1[0:,3:4])\n",
    "\n"
   ]
  },
  {
   "cell_type": "markdown",
   "metadata": {},
   "source": [
    "#### 12. Print the 4 corner pixels of the matrix"
   ]
  },
  {
   "cell_type": "code",
   "execution_count": 12,
   "metadata": {},
   "outputs": [
    {
     "name": "stdout",
     "output_type": "stream",
     "text": [
      "The corner pixels are [ 9 45 23  8]\n"
     ]
    }
   ],
   "source": [
    "# Solution\n",
    "r=len(matrix1)#to find the number of rows\n",
    "c=len(matrix1[0])# to find number of columns\n",
    "corner1=matrix1[0][0]\n",
    "corner2=matrix1[0][c-1]\n",
    "corner3=matrix1[r-1][0]\n",
    "corner4=matrix1[r-1][c-1]\n",
    "c_elements=np.array([corner1,corner2,corner3,corner4])\n",
    "print(\"The corner pixels are\",c_elements)\n"
   ]
  },
  {
   "cell_type": "markdown",
   "metadata": {},
   "source": [
    "#### 13. Create three matrix m1,m2,m3 with the elements grouped in the figure below\n",
    "<img src = \"np_mat2.png\">"
   ]
  },
  {
   "cell_type": "code",
   "execution_count": 13,
   "metadata": {},
   "outputs": [
    {
     "name": "stdout",
     "output_type": "stream",
     "text": [
      "[[50 34]\n",
      " [34 65]]\n",
      "[[ 7  8]\n",
      " [23 12]]\n",
      "[[ 3 76  3]\n",
      " [ 6 54  6]\n",
      " [ 8  5  8]]\n"
     ]
    }
   ],
   "source": [
    "# Solution \n",
    "m1=matrix1[0:2,2:4]\n",
    "print(m1)\n",
    "m2=matrix1[3:,0:2]\n",
    "print(m2)\n",
    "m3=matrix1[2:,2:]\n",
    "print(m3)\n"
   ]
  },
  {
   "cell_type": "markdown",
   "metadata": {},
   "source": [
    "#### 14. Reshape all the three matrix segmented in the above task in to three  1-dimensional vector."
   ]
  },
  {
   "cell_type": "code",
   "execution_count": 14,
   "metadata": {},
   "outputs": [
    {
     "name": "stdout",
     "output_type": "stream",
     "text": [
      "Reshaped m1 is [50 34 34 65]\n",
      "Reshaped m2 is [ 7  8 23 12]\n",
      "Reshaped m3 is [ 3 76  3  6 54  6  8  5  8]\n"
     ]
    }
   ],
   "source": [
    "# Solution\n",
    "reshape_m1=m1.flatten()\n",
    "reshape_m2=m2.flatten()\n",
    "reshape_m3=m3.flatten()\n",
    "print(\"Reshaped m1 is\",reshape_m1)\n",
    "print(\"Reshaped m2 is\",reshape_m2)\n",
    "print(\"Reshaped m3 is\",reshape_m3)\n",
    "\n"
   ]
  },
  {
   "cell_type": "markdown",
   "metadata": {},
   "source": [
    "#### 15. Concatenate the matrix m1 and m2 in both vertical and horizontal direction"
   ]
  },
  {
   "cell_type": "code",
   "execution_count": 15,
   "metadata": {},
   "outputs": [
    {
     "name": "stdout",
     "output_type": "stream",
     "text": [
      "[[50 34]\n",
      " [34 65]\n",
      " [ 7  8]\n",
      " [23 12]]\n",
      "[[50 34  7  8]\n",
      " [34 65 23 12]]\n"
     ]
    }
   ],
   "source": [
    "# Solution\n",
    "m_4=np.concatenate((m1,m2),axis=0)\n",
    "print(m_4)\n",
    "m_5=np.concatenate((m1,m2),axis=1)\n",
    "print(m_5)"
   ]
  },
  {
   "cell_type": "markdown",
   "metadata": {},
   "source": [
    "#### 16. Add, Subtract, multiply, divide the matrixes m1 and m2"
   ]
  },
  {
   "cell_type": "code",
   "execution_count": 16,
   "metadata": {},
   "outputs": [
    {
     "name": "stdout",
     "output_type": "stream",
     "text": [
      "[[57 42]\n",
      " [57 77]]\n",
      "[[43 26]\n",
      " [11 53]]\n",
      "[[350 272]\n",
      " [782 780]]\n",
      "[[7.14285714 4.25      ]\n",
      " [1.47826087 5.41666667]]\n"
     ]
    }
   ],
   "source": [
    "# Solution\n",
    "m_add=m1+m2\n",
    "print(m_add)\n",
    "m_sub=m1-m2\n",
    "print(m_sub)\n",
    "m_mul=m1*m2\n",
    "print(m_mul)\n",
    "m_div=m1/m2\n",
    "print(m_div)\n",
    "\n"
   ]
  },
  {
   "cell_type": "markdown",
   "metadata": {},
   "source": [
    "#### 17. Add the m1 with m3 by removing the first row and last column of m3"
   ]
  },
  {
   "cell_type": "code",
   "execution_count": 17,
   "metadata": {},
   "outputs": [
    {
     "name": "stdout",
     "output_type": "stream",
     "text": [
      "[[56 88]\n",
      " [42 70]]\n"
     ]
    }
   ],
   "source": [
    "# Solution\n",
    "\n",
    "m3=np.delete(m3,(0),axis=0)\n",
    "m_del_1=np.delete(m3,(-1),axis=1)\n",
    "\n",
    "m_addition=m1+m_del_1\n",
    "print(m_addition)"
   ]
  },
  {
   "cell_type": "markdown",
   "metadata": {},
   "source": [
    "#### 18. Form the matrix m4 by concatenating (as a new row) the vector [me1, me2] with the matrix m1, where me1 and me2 are the mean values of each column on m1."
   ]
  },
  {
   "cell_type": "code",
   "execution_count": 18,
   "metadata": {},
   "outputs": [
    {
     "name": "stdout",
     "output_type": "stream",
     "text": [
      "[[50.  34. ]\n",
      " [34.  65. ]\n",
      " [42.  49.5]]\n"
     ]
    }
   ],
   "source": [
    "me=m1.mean(axis=1)\n",
    "me=me.reshape(1,2)\n",
    "m1.shape\n",
    "m4=np.concatenate((m1,me),axis=0)\n",
    "print(m4)\n",
    "\n"
   ]
  },
  {
   "cell_type": "markdown",
   "metadata": {},
   "source": [
    "#### 19. Perform the matrix multiplication between m3 and m4"
   ]
  },
  {
   "cell_type": "code",
   "execution_count": 38,
   "metadata": {},
   "outputs": [
    {
     "name": "stdout",
     "output_type": "stream",
     "text": [
      "[[2860.  5190.5]\n",
      " [2388.  4011. ]\n",
      " [ 906.   993. ]]\n"
     ]
    }
   ],
   "source": [
    "# Solution\n",
    "m3=matrix1[2:,2:]\n",
    "m3.shape\n",
    "m4.shape\n",
    "m_multi=np.matmul(m3,m4)\n",
    "print(m_multi)\n"
   ]
  },
  {
   "cell_type": "markdown",
   "metadata": {},
   "source": [
    "#### 20. Compute the maximum and minimum value of mean, variance, standard deviation for each row of matrix created in question number 8."
   ]
  },
  {
   "cell_type": "code",
   "execution_count": 20,
   "metadata": {},
   "outputs": [
    {
     "name": "stdout",
     "output_type": "stream",
     "text": [
      "[ 9.4 17.2 20.2 46.8 12.8]\n",
      "[ 50.24 111.76 344.96 629.36 263.76]\n",
      "[ 7.08801806 10.57166023 18.57309883 25.08704845 16.24068964]\n",
      "maximum mean 46.8\n",
      "minimum mean 9.4\n",
      "maximum variance 629.36\n",
      "minimum variance 280.01599999999996\n",
      "maximum standard deviation 25.08704845134238\n",
      "minimum standard deviation 7.08801805866774\n"
     ]
    }
   ],
   "source": [
    "# Solution\n",
    "mean1=matrix1.mean(axis=0)\n",
    "var1=matrix1.var(axis=0)\n",
    "std1=matrix1.std(axis=0)\n",
    "print(mean1)\n",
    "print(var1)\n",
    "print(std1)\n",
    "print(\"maximum mean\",mean1.max())\n",
    "print(\"minimum mean\",mean1.min())\n",
    "print(\"maximum variance\",var1.max())\n",
    "print(\"minimum variance\",var1.mean())\n",
    "print(\"maximum standard deviation\",std1.max())\n",
    "print(\"minimum standard deviation\",std1.min())\n"
   ]
  },
  {
   "cell_type": "markdown",
   "metadata": {},
   "source": [
    "#### 21. Compute the average and strike rate for each player and sort it decending way (seperately for avg and strike rate)\n",
    "<img src = 'crick1.png'>"
   ]
  },
  {
   "cell_type": "code",
   "execution_count": 34,
   "metadata": {},
   "outputs": [
    {
     "name": "stdout",
     "output_type": "stream",
     "text": [
      "Average of the team is [13.25 29.   47.25 51.5  53.5 ]\n",
      "Average of team in descending is [53.5  51.5  47.25 29.   13.25]\n",
      "Strike rate of team [ 47.96296296  62.17703913  81.69675643  94.91125541 162.99554687]\n",
      "Strike rate of team in descending  [162.99554687  94.91125541  81.69675643  62.17703913  47.96296296]\n"
     ]
    }
   ],
   "source": [
    "# Solution \n",
    "run_scored=np.array([[54,60,10,65],[102,2,78,32],[3,110,1,92],[56,6,12,42],[12,8,22,11]])\n",
    "balls_faced=np.array([[50,42,22,78],[95,8,65,43],[9,100,7,101],[27,3,11,31],[24,20,36,27]])\n",
    "MSD_avg=np.average(run_scored[0:1,0:])\n",
    "Kholi_avg=np.average(run_scored[1:2,0:])\n",
    "Rohit_avg=np.average(run_scored[2:3,0:])\n",
    "Rahul_avg=np.average(run_scored[3:4,0:])\n",
    "Dhawan_avg=np.average(run_scored[4:,0:])\n",
    "Average_team=np.array([MSD_avg,Kholi_avg,Rohit_avg,Rahul_avg,Dhawan_avg])\n",
    "Average_team=np.sort(Average_team)\n",
    "print(\"Average of the team is\",Average_team)\n",
    "print(\"Average of team in descending is\",Average_team[::-1])\n",
    "\n",
    "Strike_rate=(run_scored/balls_faced)*100\n",
    "MSD_st=Strike_rate[0:1,0:].mean()\n",
    "Kholi_st=Strike_rate[1:2,0:].mean()\n",
    "Rohit_st=Strike_rate[2:3,0:].mean()\n",
    "Rahul_st=Strike_rate[3:4,0:].mean()\n",
    "Dhawan_st=Strike_rate[4:5,0:].mean()\n",
    "strike_team=np.array([MSD_st,Kholi_st,Rohit_st,Rahul_st,Dhawan_st])\n",
    "strike_team=np.sort(strike_team)\n",
    "print('Strike rate of team',strike_team)\n",
    "print(\"Strike rate of team in descending \",strike_team[::-1])\n"
   ]
  },
  {
   "cell_type": "markdown",
   "metadata": {},
   "source": [
    "#### 22. The students mark was recorded in a numpy array: marks = np.array([65,84,47,56,89,98,48,77,80,39]).  Cutoff for pass is 50 marks. Write the logic to print the number of students passed and failed. "
   ]
  },
  {
   "cell_type": "code",
   "execution_count": 35,
   "metadata": {},
   "outputs": [
    {
     "name": "stdout",
     "output_type": "stream",
     "text": [
      "No.of failed students 3\n",
      "No.of passed students 7\n"
     ]
    }
   ],
   "source": [
    "# Solution\n",
    "marks = np.array([65,84,47,56,89,98,48,77,80,39])\n",
    "failed_stud=(marks<50).sum()\n",
    "print(\"No.of failed students\",failed_stud)\n",
    "passed_stud=(marks>=50).sum()\n",
    "print(\"No.of passed students\",passed_stud)\n",
    "\n"
   ]
  },
  {
   "cell_type": "markdown",
   "metadata": {},
   "source": [
    "#### 23. The class incharge decided to give a mercy mark of 5 for those who scored between 45 and 49. Also the bonus of 5 marks awarded to the students who scored more than 80. Print all the student marks and compute the increase in the pass percentage of class. Any score more than 100 must be recorded as only 100."
   ]
  },
  {
   "cell_type": "code",
   "execution_count": 36,
   "metadata": {},
   "outputs": [
    {
     "name": "stdout",
     "output_type": "stream",
     "text": [
      "[ 65  89  52  56  94 100  53  77  80  39]\n"
     ]
    }
   ],
   "source": [
    "# Solution\n",
    "for i in range (0,len(marks)):\n",
    "    if marks[i]>45 and marks[i]<50:\n",
    "        marks[i]=marks[i]+ 5\n",
    "    elif marks[i]>80:\n",
    "        marks[i]=marks[i]+5\n",
    "ind=np.where(marks>100)\n",
    "marks[ind]=100\n",
    "print(marks)\n",
    "\n",
    "\n"
   ]
  },
  {
   "cell_type": "markdown",
   "metadata": {},
   "source": [
    "#### 24. Print the time taken for performing the following operation using list and numpy array\n",
    "####       (x(i)^2 +8) / y(i),   where x and y are real integers from 1 to 60000"
   ]
  },
  {
   "cell_type": "code",
   "execution_count": 50,
   "metadata": {},
   "outputs": [
    {
     "name": "stdout",
     "output_type": "stream",
     "text": [
      "Wall time: 92 ms\n",
      "Time taken for list is 0.0959465503692627\n",
      "Wall time: 30 ms\n",
      "Time taken for numpy is 0.0319819450378418\n"
     ]
    }
   ],
   "source": [
    "# Solution\n",
    "import time\n",
    "def lst():\n",
    "    x=list(range(1,60000))\n",
    "    y=list(range(1,60000))\n",
    "    result=[]\n",
    "    for i in range(len(x)):\n",
    "        result.append((((x[i]**2)+8)/y[i]))\n",
    "def npy():\n",
    "        x=np.array(range(1,60000))\n",
    "        y=np.array(range(1,60000))\n",
    "        result=((x**2)+8)/y\n",
    "start=time.time()\n",
    "%time lst()\n",
    "end=time.time()\n",
    "print(\"Time taken for list is\",end-start)\n",
    "start1=time.time()\n",
    "%time npy()\n",
    "end1=time.time()\n",
    "print(\"Time taken for numpy is\",end1-start1)\n",
    "    \n",
    "    \n",
    "\n",
    "\n"
   ]
  },
  {
   "cell_type": "markdown",
   "metadata": {},
   "source": [
    "#### 25. Create a Github account and upload your solution with the short write-up on Numpy"
   ]
  },
  {
   "cell_type": "code",
   "execution_count": null,
   "metadata": {},
   "outputs": [],
   "source": [
    "# Solution\n",
    "\n",
    "\n",
    "\n"
   ]
  }
 ],
 "metadata": {
  "kernelspec": {
   "display_name": "Python 3",
   "language": "python",
   "name": "python3"
  },
  "language_info": {
   "codemirror_mode": {
    "name": "ipython",
    "version": 3
   },
   "file_extension": ".py",
   "mimetype": "text/x-python",
   "name": "python",
   "nbconvert_exporter": "python",
   "pygments_lexer": "ipython3",
   "version": "3.8.5"
  }
 },
 "nbformat": 4,
 "nbformat_minor": 2
}
